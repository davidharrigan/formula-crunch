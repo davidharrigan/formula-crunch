{
 "cells": [
  {
   "cell_type": "code",
   "execution_count": 2,
   "metadata": {},
   "outputs": [],
   "source": [
    "from IPython.display import display, Markdown, HTML\n",
    "import pandas as pd\n",
    "import numpy as np\n",
    "import fastf1 as ff1\n",
    "\n",
    "YEAR = 2022\n",
    "RACE = \"Austria\"\n",
    "\n",
    "ff1.Cache.enable_cache(\"./data/cache\")\n",
    "\n",
    "session = ff1.get_session(YEAR, RACE, \"Race\")"
   ]
  },
  {
   "cell_type": "code",
   "execution_count": null,
   "metadata": {},
   "outputs": [],
   "source": [
    "# potentially useful for flag / safety car status\n",
    "# response = ff1.api.fetch_page(session.api_path, 'session_data')\n",
    "\n",
    "# Might be useful for various Best sector / lap / speed info without crunching numbies and probs more accurate.\n",
    "# https://livetiming.formula1.com/static/2022/2022-07-10_Austrian_Grand_Prix/2022-07-10_Race/TimingStats.json\n",
    "\n"
   ]
  },
  {
   "cell_type": "code",
   "execution_count": 25,
   "metadata": {},
   "outputs": [
    {
     "name": "stdout",
     "output_type": "stream",
     "text": [
      "40\n"
     ]
    },
    {
     "data": {
      "text/plain": [
       "[['01:03:35.006', 'PER - 16', 'TSU - 15'],\n",
       " ['01:04:48.276', 'ZHO - 15', 'TSU - 14'],\n",
       " ['01:15:37.088', 'ALB - 14', 'TSU - 13'],\n",
       " ['01:16:49.591', 'RUS - 12', 'GAS - 13', 'TSU - 11'],\n",
       " ['01:18:02.563', 'RIC - 11', 'TSU - 10'],\n",
       " ['01:20:26.704', 'NOR - 10', 'TSU - 9'],\n",
       " ['01:21:38.798', 'MAG - 9', 'TSU - 8'],\n",
       " ['01:22:50.853', 'OCO - 7', 'MSC - 8', 'TSU - 6'],\n",
       " ['01:30:03.121', 'OCO - 6', 'TSU - 7'],\n",
       " ['01:33:41.035', 'MAG - 7', 'TSU - 8'],\n",
       " ['01:33:43.077', 'NOR - 8', 'TSU - 9'],\n",
       " ['01:33:43.334', 'MSC - 9', 'TSU - 10'],\n",
       " ['01:33:44.045', 'TSU - 11', 'ALO - 10'],\n",
       " ['01:33:45.143', 'RIC - 11', 'TSU - 12'],\n",
       " ['01:33:45.659', 'RUS - 12', 'TSU - 13'],\n",
       " ['01:34:59.975', 'ALB - 13', 'TSU - 14'],\n",
       " ['01:35:01.798', 'GAS - 14', 'TSU - 15'],\n",
       " ['01:35:03.218', 'TSU - 16', 'BOT - 15'],\n",
       " ['01:35:07.886', 'TSU - 17', 'LAT - 16'],\n",
       " ['01:35:09.200', 'TSU - 18', 'VET - 17'],\n",
       " ['01:36:26.476', 'TSU - 17', 'ALO - 18'],\n",
       " ['01:41:11.039', 'TSU - 16', 'LAT - 17'],\n",
       " ['01:42:22.563', 'TSU - 17', 'ALO - 16'],\n",
       " ['01:47:09.057', 'ZHO - 17', 'TSU - 18'],\n",
       " ['01:49:35.902', 'TSU - 17', 'VET - 18'],\n",
       " ['01:50:47.711', 'TSU - 16', 'BOT - 17'],\n",
       " ['01:51:59.741', 'GAS - 16', 'TSU - 15'],\n",
       " ['01:53:12.962', 'ALB - 15', 'TSU - 14'],\n",
       " ['01:55:36.289', 'NOR - 14', 'TSU - 13'],\n",
       " ['01:56:47.864', 'RIC - 13', 'TSU - 12'],\n",
       " ['01:57:58.676', 'NOR - 11', 'ZHO - 12', 'TSU - 13'],\n",
       " ['01:58:01.191', 'RIC - 13', 'TSU - 14'],\n",
       " ['01:58:02.377', 'ALB - 14', 'TSU - 15'],\n",
       " ['01:59:14.488', 'ZHO - 15', 'TSU - 16', 'BOT - 14'],\n",
       " ['01:59:23.408', 'ZHO - 16', 'GAS - 15', 'TSU - 17'],\n",
       " ['01:59:32.333', 'ZHO - 17', 'TSU - 16'],\n",
       " ['02:07:46.286', 'ZHO - 16', 'TSU - 17'],\n",
       " ['02:11:39.426', 'SAI - 17', 'TSU - 16'],\n",
       " ['02:23:44.920', 'TSU - 17', 'VET - 16'],\n",
       " ['02:28:41.447', 'GAS - 15', 'TSU - 16', 'VET - 17']]"
      ]
     },
     "metadata": {},
     "output_type": "display_data"
    }
   ],
   "source": [
    "# response = ff1.api.fetch_page(session.api_path, 'driver_list')\n",
    "from scrape.core import get_drivers\n",
    "\n",
    "positions = []\n",
    "drivers = get_drivers(YEAR)\n",
    "\n",
    "for d in response[1:]:\n",
    "    time, data = d\n",
    "    if \"22\" not in data:\n",
    "        continue\n",
    "\n",
    "    this = [time]\n",
    "    for drv in data:\n",
    "        dd = drivers.query(f\"DriverNumber == '{drv}'\")\n",
    "        this.append(f'{dd[\"Code\"].item()} - {data[drv][\"Line\"]}')\n",
    "    positions.append(this)\n",
    "\n",
    "\n",
    "print(len(positions))\n",
    "display(positions)\n"
   ]
  },
  {
   "cell_type": "code",
   "execution_count": null,
   "metadata": {},
   "outputs": [],
   "source": [
    "ff1.api.pages[\"spfeed\"] = \"SPFeed.json\"\n",
    "\n",
    "response = ff1.api.fetch_page(session.api_path, 'spfeed')"
   ]
  },
  {
   "cell_type": "code",
   "execution_count": 14,
   "metadata": {},
   "outputs": [
    {
     "name": "stdout",
     "output_type": "stream",
     "text": [
      "860\n"
     ]
    }
   ],
   "source": [
    "response = ff1.api.fetch_page(session.api_path, 'timing_app_data')\n"
   ]
  }
 ],
 "metadata": {
  "kernelspec": {
   "display_name": "Python 3.10.5 ('venv': venv)",
   "language": "python",
   "name": "python3"
  },
  "language_info": {
   "codemirror_mode": {
    "name": "ipython",
    "version": 3
   },
   "file_extension": ".py",
   "mimetype": "text/x-python",
   "name": "python",
   "nbconvert_exporter": "python",
   "pygments_lexer": "ipython3",
   "version": "3.10.5"
  },
  "orig_nbformat": 4,
  "vscode": {
   "interpreter": {
    "hash": "006a7ef46cb708816933237c8856504ee793bc36f7efb59160cfeeae5719c089"
   }
  }
 },
 "nbformat": 4,
 "nbformat_minor": 2
}

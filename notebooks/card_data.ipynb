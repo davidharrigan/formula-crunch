{
 "cells": [
  {
   "cell_type": "code",
   "execution_count": 2,
   "id": "cf303d6b-18e0-4592-b120-c5ccdeeded0c",
   "metadata": {},
   "outputs": [],
   "source": [
    "import fastf1\n",
    "fastf1.Cache.enable_cache('../data/cache') "
   ]
  },
  {
   "cell_type": "code",
   "execution_count": 3,
   "id": "c794a47c-3640-404f-89a1-a7079ddd1e27",
   "metadata": {},
   "outputs": [],
   "source": [
    "# Set some variables\n",
    "DRIVER = 'VER'\n",
    "YEAR = 2022\n",
    "RACE = 'Austria'"
   ]
  },
  {
   "cell_type": "code",
   "execution_count": 4,
   "id": "1bf0dc77-9d63-4c1d-946c-b00c43729917",
   "metadata": {},
   "outputs": [
    {
     "name": "stderr",
     "output_type": "stream",
     "text": [
      "core           INFO \tLoading data for Austrian Grand Prix - Race [v2.2.9]\n",
      "api            INFO \tUsing cached data for driver_info\n",
      "api            INFO \tUsing cached data for timing_data\n",
      "api            INFO \tUsing cached data for timing_app_data\n",
      "core           INFO \tProcessing timing data...\n",
      "api            INFO \tUsing cached data for session_status_data\n",
      "api            INFO \tUsing cached data for track_status_data\n",
      "api            INFO \tUsing cached data for car_data\n",
      "api            INFO \tUsing cached data for position_data\n",
      "api            INFO \tUsing cached data for race_control_messages\n",
      "core           INFO \tFinished loading data for 20 drivers: ['16', '1', '44', '63', '31', '47', '4', '20', '3', '14', '77', '23', '18', '24', '10', '22', '5', '55', '6', '11']\n"
     ]
    }
   ],
   "source": [
    "session = fastf1.get_session(YEAR, RACE, 'Race')\n",
    "session.load(telemetry=True, laps=True, weather=False)"
   ]
  },
  {
   "cell_type": "code",
   "execution_count": 5,
   "id": "5fb7b598-78d3-4844-bd72-66d891233d5f",
   "metadata": {},
   "outputs": [],
   "source": [
    "from IPython.display import display, Markdown, HTML\n",
    "import pandas"
   ]
  },
  {
   "cell_type": "code",
   "execution_count": 6,
   "id": "8748a1c1-640d-4520-b8f6-5545e381b28f",
   "metadata": {},
   "outputs": [
    {
     "data": {
      "text/markdown": [
       "### Fastest Lap Time"
      ],
      "text/plain": [
       "<IPython.core.display.Markdown object>"
      ]
     },
     "metadata": {},
     "output_type": "display_data"
    },
    {
     "name": "stdout",
     "output_type": "stream",
     "text": [
      "0:01:07.275000\n"
     ]
    }
   ],
   "source": [
    "# Fastest Lap Time\n",
    "\n",
    "laps = session.laps.pick_driver(DRIVER)\n",
    "fastest_lap = laps.pick_fastest()\n",
    "\n",
    "display(Markdown('### Fastest Lap Time'))\n",
    "print(fastest_lap[\"LapTime\"].to_pytimedelta())"
   ]
  },
  {
   "cell_type": "code",
   "execution_count": 32,
   "id": "2ad2cc65-bbf8-48bd-b3b9-b540c4193fc9",
   "metadata": {},
   "outputs": [
    {
     "data": {
      "text/markdown": [
       "### Average Lap Time"
      ],
      "text/plain": [
       "<IPython.core.display.Markdown object>"
      ]
     },
     "metadata": {},
     "output_type": "display_data"
    },
    {
     "name": "stdout",
     "output_type": "stream",
     "text": [
      "0:01:09.983000\n"
     ]
    }
   ],
   "source": [
    "# Average Lap Time\n",
    "# Excludes when pit stop occurred\n",
    "\n",
    "average = laps.query('PitOutTime == \"\" and PitInTime == \"\"').filter(items=['LapTime']).mean()['LapTime']\n",
    "\n",
    "display(Markdown('### Average Lap Time'))\n",
    "print(average.round('ms').to_pytimedelta())"
   ]
  },
  {
   "cell_type": "code",
   "execution_count": 150,
   "id": "a1b682dc-e252-493e-8857-b05bc2182f93",
   "metadata": {
    "tags": []
   },
   "outputs": [
    {
     "data": {
      "text/markdown": [
       "### Pit Stop Times"
      ],
      "text/plain": [
       "<IPython.core.display.Markdown object>"
      ]
     },
     "metadata": {},
     "output_type": "display_data"
    },
    {
     "data": {
      "text/markdown": [
       "#### Average"
      ],
      "text/plain": [
       "<IPython.core.display.Markdown object>"
      ]
     },
     "metadata": {},
     "output_type": "display_data"
    },
    {
     "name": "stdout",
     "output_type": "stream",
     "text": [
      "0:00:21.598000\n"
     ]
    },
    {
     "data": {
      "text/markdown": [
       "#### Total"
      ],
      "text/plain": [
       "<IPython.core.display.Markdown object>"
      ]
     },
     "metadata": {},
     "output_type": "display_data"
    },
    {
     "name": "stdout",
     "output_type": "stream",
     "text": [
      "0:01:04.793000\n"
     ]
    },
    {
     "data": {
      "text/markdown": [
       "#### By Lap"
      ],
      "text/plain": [
       "<IPython.core.display.Markdown object>"
      ]
     },
     "metadata": {},
     "output_type": "display_data"
    },
    {
     "name": "stdout",
     "output_type": "stream",
     "text": [
      "Lap 13 - 0:00:22.008000\n",
      "Lap 36 - 0:00:21.448000\n",
      "Lap 58 - 0:00:21.337000\n"
     ]
    }
   ],
   "source": [
    "# Pit Stop Times\n",
    "last_pit_in = None\n",
    "pit_stops = []\n",
    "\n",
    "_laps = laps.filter(items=['LapNumber', 'PitInTime', 'PitOutTime'])\n",
    "for idx, lap in _laps.iterrows():\n",
    "    lap_number = lap['LapNumber']\n",
    "    pit_in = lap['PitInTime']\n",
    "    pit_out = lap['PitOutTime']\n",
    "    \n",
    "    if pandas.isnull(pit_in) and not pandas.isnull(pit_out) and lap_number == 1:\n",
    "        continue\n",
    "    \n",
    "    if not pandas.isnull(pit_in):\n",
    "        last_pit_in = pit_in\n",
    "    \n",
    "    if not pandas.isnull(pit_out):\n",
    "        pit_stops.append((lap_number-1, pandas.Timedelta(pit_out - last_pit_in)))\n",
    "        last_pit_in = None\n",
    "        \n",
    "df = pandas.DataFrame(data=pit_stops, columns=['lap', 'time'])\n",
    "average = df.filter(items=['time']).mean()['time'].round('ms').to_pytimedelta()\n",
    "total = df.filter(items=['time']).sum()['time'].round('ms').to_pytimedelta()\n",
    "\n",
    "display(Markdown('### Pit Stop Times'))\n",
    "display(Markdown('#### Average'))\n",
    "print(average)\n",
    "display(Markdown('#### Total'))\n",
    "print(total)\n",
    "# For some reason these are slightly off from ergast pit information API.\n",
    "# We consider pit time here as difference between when car entered the pit and exited.\n",
    "# Maybe the API treats \"pit duration\" sligtly differently?\n",
    "display(Markdown('#### By Lap'))\n",
    "for lap, time in pit_stops:\n",
    "    print(f'Lap {lap} - {time.round(\"ms\").to_pytimedelta()}')\n"
   ]
  },
  {
   "cell_type": "code",
   "execution_count": 29,
   "id": "9c460b5a-3fc4-4aca-a584-49d144b70a49",
   "metadata": {},
   "outputs": [
    {
     "data": {
      "text/markdown": [
       "### Average Speed"
      ],
      "text/plain": [
       "<IPython.core.display.Markdown object>"
      ]
     },
     "metadata": {},
     "output_type": "display_data"
    },
    {
     "data": {
      "text/markdown": [
       "#### Fastest Lap"
      ],
      "text/plain": [
       "<IPython.core.display.Markdown object>"
      ]
     },
     "metadata": {},
     "output_type": "display_data"
    },
    {
     "name": "stdout",
     "output_type": "stream",
     "text": [
      "229.084\n"
     ]
    },
    {
     "data": {
      "text/markdown": [
       "#### All Laps"
      ],
      "text/plain": [
       "<IPython.core.display.Markdown object>"
      ]
     },
     "metadata": {},
     "output_type": "display_data"
    },
    {
     "name": "stdout",
     "output_type": "stream",
     "text": [
      "215.953\n"
     ]
    }
   ],
   "source": [
    "# Average Speed\n",
    "display(Markdown('### Average Speed'))\n",
    "display(Markdown('#### Fastest Lap'))\n",
    "\n",
    "car_data = fastest_lap.get_car_data(pad=1, pad_side='both')\n",
    "print(car_data.mean(numeric_only=True)['Speed'].round(3))\n",
    "\n",
    "display(Markdown('#### All Laps'))\n",
    "# Excludes pit stop\n",
    "car_data = laps.query('PitOutTime == \"\" and PitInTime == \"\"').get_car_data(pad=1, pad_side='both')\n",
    "print(car_data.mean(numeric_only=True)['Speed'].round(3))"
   ]
  },
  {
   "cell_type": "code",
   "execution_count": 10,
   "id": "a22d1b4e-e112-4274-aab7-2ccb17f10d65",
   "metadata": {},
   "outputs": [
    {
     "data": {
      "text/markdown": [
       "### Speed Traps"
      ],
      "text/plain": [
       "<IPython.core.display.Markdown object>"
      ]
     },
     "metadata": {},
     "output_type": "display_data"
    },
    {
     "data": {
      "text/markdown": [
       "#### Fastest Lap"
      ],
      "text/plain": [
       "<IPython.core.display.Markdown object>"
      ]
     },
     "metadata": {},
     "output_type": "display_data"
    },
    {
     "data": {
      "text/markdown": [
       "##### Intermediate 1"
      ],
      "text/plain": [
       "<IPython.core.display.Markdown object>"
      ]
     },
     "metadata": {},
     "output_type": "display_data"
    },
    {
     "name": "stdout",
     "output_type": "stream",
     "text": [
      "305.0\n"
     ]
    },
    {
     "data": {
      "text/markdown": [
       "##### Intermediate 2"
      ],
      "text/plain": [
       "<IPython.core.display.Markdown object>"
      ]
     },
     "metadata": {},
     "output_type": "display_data"
    },
    {
     "name": "stdout",
     "output_type": "stream",
     "text": [
      "234.0\n"
     ]
    },
    {
     "data": {
      "text/markdown": [
       "##### Speed Trap"
      ],
      "text/plain": [
       "<IPython.core.display.Markdown object>"
      ]
     },
     "metadata": {},
     "output_type": "display_data"
    },
    {
     "name": "stdout",
     "output_type": "stream",
     "text": [
      "312.0\n"
     ]
    },
    {
     "data": {
      "text/markdown": [
       "##### Finising Line"
      ],
      "text/plain": [
       "<IPython.core.display.Markdown object>"
      ]
     },
     "metadata": {},
     "output_type": "display_data"
    },
    {
     "name": "stdout",
     "output_type": "stream",
     "text": [
      "276.0\n"
     ]
    },
    {
     "data": {
      "text/markdown": [
       "#### All Laps"
      ],
      "text/plain": [
       "<IPython.core.display.Markdown object>"
      ]
     },
     "metadata": {},
     "output_type": "display_data"
    },
    {
     "data": {
      "text/markdown": [
       "##### Intermediate 1"
      ],
      "text/plain": [
       "<IPython.core.display.Markdown object>"
      ]
     },
     "metadata": {},
     "output_type": "display_data"
    },
    {
     "name": "stdout",
     "output_type": "stream",
     "text": [
      "315.0\n"
     ]
    },
    {
     "data": {
      "text/markdown": [
       "##### Intermediate 2"
      ],
      "text/plain": [
       "<IPython.core.display.Markdown object>"
      ]
     },
     "metadata": {},
     "output_type": "display_data"
    },
    {
     "name": "stdout",
     "output_type": "stream",
     "text": [
      "238.0\n"
     ]
    },
    {
     "data": {
      "text/markdown": [
       "##### Speed Trap"
      ],
      "text/plain": [
       "<IPython.core.display.Markdown object>"
      ]
     },
     "metadata": {},
     "output_type": "display_data"
    },
    {
     "name": "stdout",
     "output_type": "stream",
     "text": [
      "321.0\n"
     ]
    },
    {
     "data": {
      "text/markdown": [
       "##### Finising Line"
      ],
      "text/plain": [
       "<IPython.core.display.Markdown object>"
      ]
     },
     "metadata": {},
     "output_type": "display_data"
    },
    {
     "name": "stdout",
     "output_type": "stream",
     "text": [
      "281.0\n"
     ]
    }
   ],
   "source": [
    "# Speed Traps\n",
    "display(Markdown('### Speed Traps'))\n",
    "\n",
    "display(Markdown('#### Fastest Lap'))\n",
    "display(Markdown('##### Intermediate 1'))\n",
    "print(fastest_lap[\"SpeedI1\"])\n",
    "display(Markdown('##### Intermediate 2'))\n",
    "print(fastest_lap[\"SpeedI2\"])\n",
    "display(Markdown('##### Speed Trap'))\n",
    "print(fastest_lap[\"SpeedST\"])\n",
    "display(Markdown('##### Finising Line'))\n",
    "print(fastest_lap[\"SpeedFL\"])\n",
    "\n",
    "display(Markdown('#### All Laps'))\n",
    "df = laps.filter(items=['SpeedI1', 'SpeedI2', 'SpeedST', 'SpeedFL']).max()\n",
    "display(Markdown('##### Intermediate 1'))\n",
    "print(df[\"SpeedI1\"])\n",
    "display(Markdown('##### Intermediate 2'))\n",
    "print(df[\"SpeedI2\"])\n",
    "display(Markdown('##### Speed Trap'))\n",
    "print(df[\"SpeedST\"])\n",
    "display(Markdown('##### Finising Line'))\n",
    "print(df[\"SpeedFL\"])"
   ]
  },
  {
   "cell_type": "code",
   "execution_count": 11,
   "id": "b6eb29f3-d2b8-42a8-b1e2-62da18871a95",
   "metadata": {},
   "outputs": [
    {
     "data": {
      "text/markdown": [
       "### Sector Times"
      ],
      "text/plain": [
       "<IPython.core.display.Markdown object>"
      ]
     },
     "metadata": {},
     "output_type": "display_data"
    },
    {
     "data": {
      "text/markdown": [
       "#### Average"
      ],
      "text/plain": [
       "<IPython.core.display.Markdown object>"
      ]
     },
     "metadata": {},
     "output_type": "display_data"
    },
    {
     "data": {
      "text/plain": [
       "Sector1Time   0 days 00:00:18.396000\n",
       "Sector2Time   0 days 00:00:31.474000\n",
       "Sector3Time   0 days 00:00:21.477000\n",
       "dtype: timedelta64[ns]"
      ]
     },
     "metadata": {},
     "output_type": "display_data"
    },
    {
     "data": {
      "text/markdown": [
       "#### Fastest"
      ],
      "text/plain": [
       "<IPython.core.display.Markdown object>"
      ]
     },
     "metadata": {},
     "output_type": "display_data"
    },
    {
     "data": {
      "text/plain": [
       "Sector1Time   0 days 00:00:17.086000\n",
       "Sector2Time   0 days 00:00:29.866000\n",
       "Sector3Time   0 days 00:00:20.265000\n",
       "dtype: timedelta64[ns]"
      ]
     },
     "metadata": {},
     "output_type": "display_data"
    }
   ],
   "source": [
    "display(Markdown('### Sector Times'))\n",
    "\n",
    "# Sector Average\n",
    "df_avg = laps.filter(items=['Sector1Time', 'Sector2Time', 'Sector3Time']).mean().round('ms')\n",
    "display(Markdown('#### Average'))\n",
    "display(df_avg)\n",
    "\n",
    "# Sector Fastest\n",
    "df_max = laps.filter(items=['Sector1Time', 'Sector2Time', 'Sector3Time']).min().round('ms')\n",
    "display(Markdown('#### Fastest'))\n",
    "display(df_max)"
   ]
  },
  {
   "cell_type": "code",
   "execution_count": null,
   "id": "d2a15e76-0db6-4d4b-af69-17eb25c9838a",
   "metadata": {},
   "outputs": [
    {
     "name": "stdout",
     "output_type": "stream",
     "text": [
      "\n",
      "--- Lap 16 ---\n",
      "-- Overtake --\n"
     ]
    },
    {
     "data": {
      "text/html": [
       "<div>\n",
       "<style scoped>\n",
       "    .dataframe tbody tr th:only-of-type {\n",
       "        vertical-align: middle;\n",
       "    }\n",
       "\n",
       "    .dataframe tbody tr th {\n",
       "        vertical-align: top;\n",
       "    }\n",
       "\n",
       "    .dataframe thead th {\n",
       "        text-align: right;\n",
       "    }\n",
       "</style>\n",
       "<table border=\"1\" class=\"dataframe\">\n",
       "  <thead>\n",
       "    <tr style=\"text-align: right;\">\n",
       "      <th></th>\n",
       "      <th>Date</th>\n",
       "      <th>RPM</th>\n",
       "      <th>Speed</th>\n",
       "      <th>nGear</th>\n",
       "      <th>Throttle</th>\n",
       "      <th>Brake</th>\n",
       "      <th>DRS</th>\n",
       "      <th>Source</th>\n",
       "      <th>Time</th>\n",
       "      <th>SessionTime</th>\n",
       "      <th>DriverAhead</th>\n",
       "      <th>DistanceToDriverAhead</th>\n",
       "      <th>Distance</th>\n",
       "    </tr>\n",
       "  </thead>\n",
       "  <tbody>\n",
       "    <tr>\n",
       "      <th>4115</th>\n",
       "      <td>2022-07-10 13:21:33.027</td>\n",
       "      <td>10354</td>\n",
       "      <td>291</td>\n",
       "      <td>8</td>\n",
       "      <td>100</td>\n",
       "      <td>False</td>\n",
       "      <td>0</td>\n",
       "      <td>car</td>\n",
       "      <td>0 days 00:18:19.220000</td>\n",
       "      <td>0 days 01:20:33.018000</td>\n",
       "      <td></td>\n",
       "      <td>NaN</td>\n",
       "      <td>88853.616667</td>\n",
       "    </tr>\n",
       "    <tr>\n",
       "      <th>4116</th>\n",
       "      <td>2022-07-10 13:21:33.227</td>\n",
       "      <td>10344</td>\n",
       "      <td>290</td>\n",
       "      <td>8</td>\n",
       "      <td>99</td>\n",
       "      <td>False</td>\n",
       "      <td>0</td>\n",
       "      <td>car</td>\n",
       "      <td>0 days 00:18:19.420000</td>\n",
       "      <td>0 days 01:20:33.218000</td>\n",
       "      <td>1</td>\n",
       "      <td>1.575278</td>\n",
       "      <td>88869.727778</td>\n",
       "    </tr>\n",
       "    <tr>\n",
       "      <th>4117</th>\n",
       "      <td>2022-07-10 13:21:33.507</td>\n",
       "      <td>10294</td>\n",
       "      <td>289</td>\n",
       "      <td>8</td>\n",
       "      <td>100</td>\n",
       "      <td>False</td>\n",
       "      <td>0</td>\n",
       "      <td>car</td>\n",
       "      <td>0 days 00:18:19.700000</td>\n",
       "      <td>0 days 01:20:33.498000</td>\n",
       "      <td>1</td>\n",
       "      <td>3.441944</td>\n",
       "      <td>88892.205556</td>\n",
       "    </tr>\n",
       "    <tr>\n",
       "      <th>4118</th>\n",
       "      <td>2022-07-10 13:21:33.868</td>\n",
       "      <td>10289</td>\n",
       "      <td>289</td>\n",
       "      <td>8</td>\n",
       "      <td>99</td>\n",
       "      <td>False</td>\n",
       "      <td>0</td>\n",
       "      <td>car</td>\n",
       "      <td>0 days 00:18:20.061000</td>\n",
       "      <td>0 days 01:20:33.859000</td>\n",
       "      <td>1</td>\n",
       "      <td>5.848611</td>\n",
       "      <td>88921.185833</td>\n",
       "    </tr>\n",
       "    <tr>\n",
       "      <th>4119</th>\n",
       "      <td>2022-07-10 13:21:34.028</td>\n",
       "      <td>10191</td>\n",
       "      <td>288</td>\n",
       "      <td>8</td>\n",
       "      <td>100</td>\n",
       "      <td>False</td>\n",
       "      <td>0</td>\n",
       "      <td>car</td>\n",
       "      <td>0 days 00:18:20.221000</td>\n",
       "      <td>0 days 01:20:34.019000</td>\n",
       "      <td>1</td>\n",
       "      <td>7.004167</td>\n",
       "      <td>88933.985833</td>\n",
       "    </tr>\n",
       "    <tr>\n",
       "      <th>4120</th>\n",
       "      <td>2022-07-10 13:21:34.268</td>\n",
       "      <td>10178</td>\n",
       "      <td>286</td>\n",
       "      <td>8</td>\n",
       "      <td>100</td>\n",
       "      <td>False</td>\n",
       "      <td>0</td>\n",
       "      <td>car</td>\n",
       "      <td>0 days 00:18:20.461000</td>\n",
       "      <td>0 days 01:20:34.259000</td>\n",
       "      <td>1</td>\n",
       "      <td>8.937500</td>\n",
       "      <td>88953.052500</td>\n",
       "    </tr>\n",
       "    <tr>\n",
       "      <th>4121</th>\n",
       "      <td>2022-07-10 13:21:34.468</td>\n",
       "      <td>10161</td>\n",
       "      <td>284</td>\n",
       "      <td>8</td>\n",
       "      <td>100</td>\n",
       "      <td>False</td>\n",
       "      <td>0</td>\n",
       "      <td>car</td>\n",
       "      <td>0 days 00:18:20.661000</td>\n",
       "      <td>0 days 01:20:34.459000</td>\n",
       "      <td>1</td>\n",
       "      <td>10.659722</td>\n",
       "      <td>88968.830278</td>\n",
       "    </tr>\n",
       "    <tr>\n",
       "      <th>4122</th>\n",
       "      <td>2022-07-10 13:21:34.748</td>\n",
       "      <td>10150</td>\n",
       "      <td>284</td>\n",
       "      <td>8</td>\n",
       "      <td>100</td>\n",
       "      <td>False</td>\n",
       "      <td>0</td>\n",
       "      <td>car</td>\n",
       "      <td>0 days 00:18:20.941000</td>\n",
       "      <td>0 days 01:20:34.739000</td>\n",
       "      <td>1</td>\n",
       "      <td>12.604167</td>\n",
       "      <td>88990.919167</td>\n",
       "    </tr>\n",
       "    <tr>\n",
       "      <th>4123</th>\n",
       "      <td>2022-07-10 13:21:34.948</td>\n",
       "      <td>10083</td>\n",
       "      <td>284</td>\n",
       "      <td>8</td>\n",
       "      <td>85</td>\n",
       "      <td>True</td>\n",
       "      <td>0</td>\n",
       "      <td>car</td>\n",
       "      <td>0 days 00:18:21.141000</td>\n",
       "      <td>0 days 01:20:34.939000</td>\n",
       "      <td>1</td>\n",
       "      <td>12.881944</td>\n",
       "      <td>89006.696944</td>\n",
       "    </tr>\n",
       "    <tr>\n",
       "      <th>4124</th>\n",
       "      <td>2022-07-10 13:21:35.108</td>\n",
       "      <td>9803</td>\n",
       "      <td>266</td>\n",
       "      <td>8</td>\n",
       "      <td>0</td>\n",
       "      <td>True</td>\n",
       "      <td>0</td>\n",
       "      <td>car</td>\n",
       "      <td>0 days 00:18:21.301000</td>\n",
       "      <td>0 days 01:20:35.099000</td>\n",
       "      <td>1</td>\n",
       "      <td>12.881944</td>\n",
       "      <td>89018.519167</td>\n",
       "    </tr>\n",
       "    <tr>\n",
       "      <th>4125</th>\n",
       "      <td>2022-07-10 13:21:35.268</td>\n",
       "      <td>8854</td>\n",
       "      <td>252</td>\n",
       "      <td>8</td>\n",
       "      <td>0</td>\n",
       "      <td>True</td>\n",
       "      <td>0</td>\n",
       "      <td>car</td>\n",
       "      <td>0 days 00:18:21.461000</td>\n",
       "      <td>0 days 01:20:35.259000</td>\n",
       "      <td>1</td>\n",
       "      <td>12.526389</td>\n",
       "      <td>89029.719167</td>\n",
       "    </tr>\n",
       "    <tr>\n",
       "      <th>4126</th>\n",
       "      <td>2022-07-10 13:21:35.628</td>\n",
       "      <td>8166</td>\n",
       "      <td>208</td>\n",
       "      <td>8</td>\n",
       "      <td>0</td>\n",
       "      <td>True</td>\n",
       "      <td>0</td>\n",
       "      <td>car</td>\n",
       "      <td>0 days 00:18:21.821000</td>\n",
       "      <td>0 days 01:20:35.619000</td>\n",
       "      <td>1</td>\n",
       "      <td>13.926389</td>\n",
       "      <td>89050.519167</td>\n",
       "    </tr>\n",
       "    <tr>\n",
       "      <th>4127</th>\n",
       "      <td>2022-07-10 13:21:35.988</td>\n",
       "      <td>9013</td>\n",
       "      <td>175</td>\n",
       "      <td>8</td>\n",
       "      <td>0</td>\n",
       "      <td>True</td>\n",
       "      <td>0</td>\n",
       "      <td>car</td>\n",
       "      <td>0 days 00:18:22.181000</td>\n",
       "      <td>0 days 01:20:35.979000</td>\n",
       "      <td>1</td>\n",
       "      <td>13.226389</td>\n",
       "      <td>89068.019167</td>\n",
       "    </tr>\n",
       "  </tbody>\n",
       "</table>\n",
       "</div>"
      ],
      "text/plain": [
       "                        Date    RPM  Speed  nGear  Throttle  Brake  DRS  \\\n",
       "4115 2022-07-10 13:21:33.027  10354    291      8       100  False    0   \n",
       "4116 2022-07-10 13:21:33.227  10344    290      8        99  False    0   \n",
       "4117 2022-07-10 13:21:33.507  10294    289      8       100  False    0   \n",
       "4118 2022-07-10 13:21:33.868  10289    289      8        99  False    0   \n",
       "4119 2022-07-10 13:21:34.028  10191    288      8       100  False    0   \n",
       "4120 2022-07-10 13:21:34.268  10178    286      8       100  False    0   \n",
       "4121 2022-07-10 13:21:34.468  10161    284      8       100  False    0   \n",
       "4122 2022-07-10 13:21:34.748  10150    284      8       100  False    0   \n",
       "4123 2022-07-10 13:21:34.948  10083    284      8        85   True    0   \n",
       "4124 2022-07-10 13:21:35.108   9803    266      8         0   True    0   \n",
       "4125 2022-07-10 13:21:35.268   8854    252      8         0   True    0   \n",
       "4126 2022-07-10 13:21:35.628   8166    208      8         0   True    0   \n",
       "4127 2022-07-10 13:21:35.988   9013    175      8         0   True    0   \n",
       "\n",
       "     Source                   Time            SessionTime DriverAhead  \\\n",
       "4115    car 0 days 00:18:19.220000 0 days 01:20:33.018000               \n",
       "4116    car 0 days 00:18:19.420000 0 days 01:20:33.218000           1   \n",
       "4117    car 0 days 00:18:19.700000 0 days 01:20:33.498000           1   \n",
       "4118    car 0 days 00:18:20.061000 0 days 01:20:33.859000           1   \n",
       "4119    car 0 days 00:18:20.221000 0 days 01:20:34.019000           1   \n",
       "4120    car 0 days 00:18:20.461000 0 days 01:20:34.259000           1   \n",
       "4121    car 0 days 00:18:20.661000 0 days 01:20:34.459000           1   \n",
       "4122    car 0 days 00:18:20.941000 0 days 01:20:34.739000           1   \n",
       "4123    car 0 days 00:18:21.141000 0 days 01:20:34.939000           1   \n",
       "4124    car 0 days 00:18:21.301000 0 days 01:20:35.099000           1   \n",
       "4125    car 0 days 00:18:21.461000 0 days 01:20:35.259000           1   \n",
       "4126    car 0 days 00:18:21.821000 0 days 01:20:35.619000           1   \n",
       "4127    car 0 days 00:18:22.181000 0 days 01:20:35.979000           1   \n",
       "\n",
       "      DistanceToDriverAhead      Distance  \n",
       "4115                    NaN  88853.616667  \n",
       "4116               1.575278  88869.727778  \n",
       "4117               3.441944  88892.205556  \n",
       "4118               5.848611  88921.185833  \n",
       "4119               7.004167  88933.985833  \n",
       "4120               8.937500  88953.052500  \n",
       "4121              10.659722  88968.830278  \n",
       "4122              12.604167  88990.919167  \n",
       "4123              12.881944  89006.696944  \n",
       "4124              12.881944  89018.519167  \n",
       "4125              12.526389  89029.719167  \n",
       "4126              13.926389  89050.519167  \n",
       "4127              13.226389  89068.019167  "
      ]
     },
     "metadata": {},
     "output_type": "display_data"
    },
    {
     "data": {
      "text/plain": [
       "Date                     2022-07-10 13:21:33.027000\n",
       "RPM                                           11037\n",
       "Speed                                           310\n",
       "nGear                                             8\n",
       "Throttle                                        100\n",
       "Brake                                         False\n",
       "DRS                                              12\n",
       "Source                                          car\n",
       "Time                         0 days 00:00:16.096000\n",
       "SessionTime                  0 days 01:20:33.018000\n",
       "DriverAhead                                      44\n",
       "DistanceToDriverAhead                    178.903611\n",
       "Name: 57, dtype: object"
      ]
     },
     "metadata": {},
     "output_type": "display_data"
    },
    {
     "name": "stdout",
     "output_type": "stream",
     "text": [
      "Driver ahead before: 47\n",
      "Driver ahead now: 44\n",
      "\n",
      "--- Lap 18 ---\n",
      "-- Overtake --\n"
     ]
    },
    {
     "data": {
      "text/html": [
       "<div>\n",
       "<style scoped>\n",
       "    .dataframe tbody tr th:only-of-type {\n",
       "        vertical-align: middle;\n",
       "    }\n",
       "\n",
       "    .dataframe tbody tr th {\n",
       "        vertical-align: top;\n",
       "    }\n",
       "\n",
       "    .dataframe thead th {\n",
       "        text-align: right;\n",
       "    }\n",
       "</style>\n",
       "<table border=\"1\" class=\"dataframe\">\n",
       "  <thead>\n",
       "    <tr style=\"text-align: right;\">\n",
       "      <th></th>\n",
       "      <th>Date</th>\n",
       "      <th>RPM</th>\n",
       "      <th>Speed</th>\n",
       "      <th>nGear</th>\n",
       "      <th>Throttle</th>\n",
       "      <th>Brake</th>\n",
       "      <th>DRS</th>\n",
       "      <th>Source</th>\n",
       "      <th>Time</th>\n",
       "      <th>SessionTime</th>\n",
       "      <th>DriverAhead</th>\n",
       "      <th>DistanceToDriverAhead</th>\n",
       "      <th>Distance</th>\n",
       "    </tr>\n",
       "  </thead>\n",
       "  <tbody>\n",
       "    <tr>\n",
       "      <th>4704</th>\n",
       "      <td>2022-07-10 13:24:07.908</td>\n",
       "      <td>11070</td>\n",
       "      <td>282</td>\n",
       "      <td>7</td>\n",
       "      <td>100</td>\n",
       "      <td>False</td>\n",
       "      <td>0</td>\n",
       "      <td>car</td>\n",
       "      <td>0 days 00:20:54.101000</td>\n",
       "      <td>0 days 01:23:07.899000</td>\n",
       "      <td></td>\n",
       "      <td>NaN</td>\n",
       "      <td>98237.911667</td>\n",
       "    </tr>\n",
       "    <tr>\n",
       "      <th>4705</th>\n",
       "      <td>2022-07-10 13:24:08.108</td>\n",
       "      <td>10531</td>\n",
       "      <td>284</td>\n",
       "      <td>8</td>\n",
       "      <td>100</td>\n",
       "      <td>False</td>\n",
       "      <td>0</td>\n",
       "      <td>car</td>\n",
       "      <td>0 days 00:20:54.301000</td>\n",
       "      <td>0 days 01:23:08.099000</td>\n",
       "      <td>1</td>\n",
       "      <td>1.011667</td>\n",
       "      <td>98253.689444</td>\n",
       "    </tr>\n",
       "    <tr>\n",
       "      <th>4706</th>\n",
       "      <td>2022-07-10 13:24:08.348</td>\n",
       "      <td>10594</td>\n",
       "      <td>287</td>\n",
       "      <td>8</td>\n",
       "      <td>100</td>\n",
       "      <td>False</td>\n",
       "      <td>0</td>\n",
       "      <td>car</td>\n",
       "      <td>0 days 00:20:54.541000</td>\n",
       "      <td>0 days 01:23:08.339000</td>\n",
       "      <td>1</td>\n",
       "      <td>1.811667</td>\n",
       "      <td>98272.822778</td>\n",
       "    </tr>\n",
       "    <tr>\n",
       "      <th>4707</th>\n",
       "      <td>2022-07-10 13:24:08.588</td>\n",
       "      <td>10638</td>\n",
       "      <td>287</td>\n",
       "      <td>8</td>\n",
       "      <td>100</td>\n",
       "      <td>False</td>\n",
       "      <td>0</td>\n",
       "      <td>car</td>\n",
       "      <td>0 days 00:20:54.781000</td>\n",
       "      <td>0 days 01:23:08.579000</td>\n",
       "      <td>1</td>\n",
       "      <td>2.811667</td>\n",
       "      <td>98291.956111</td>\n",
       "    </tr>\n",
       "    <tr>\n",
       "      <th>4708</th>\n",
       "      <td>2022-07-10 13:24:08.748</td>\n",
       "      <td>10698</td>\n",
       "      <td>290</td>\n",
       "      <td>8</td>\n",
       "      <td>100</td>\n",
       "      <td>False</td>\n",
       "      <td>0</td>\n",
       "      <td>car</td>\n",
       "      <td>0 days 00:20:54.941000</td>\n",
       "      <td>0 days 01:23:08.739000</td>\n",
       "      <td>1</td>\n",
       "      <td>3.389444</td>\n",
       "      <td>98304.845000</td>\n",
       "    </tr>\n",
       "    <tr>\n",
       "      <th>4709</th>\n",
       "      <td>2022-07-10 13:24:08.908</td>\n",
       "      <td>10714</td>\n",
       "      <td>291</td>\n",
       "      <td>8</td>\n",
       "      <td>100</td>\n",
       "      <td>False</td>\n",
       "      <td>0</td>\n",
       "      <td>car</td>\n",
       "      <td>0 days 00:20:55.101000</td>\n",
       "      <td>0 days 01:23:08.899000</td>\n",
       "      <td>1</td>\n",
       "      <td>4.011667</td>\n",
       "      <td>98317.778333</td>\n",
       "    </tr>\n",
       "    <tr>\n",
       "      <th>4710</th>\n",
       "      <td>2022-07-10 13:24:09.228</td>\n",
       "      <td>10743</td>\n",
       "      <td>292</td>\n",
       "      <td>8</td>\n",
       "      <td>100</td>\n",
       "      <td>False</td>\n",
       "      <td>0</td>\n",
       "      <td>car</td>\n",
       "      <td>0 days 00:20:55.421000</td>\n",
       "      <td>0 days 01:23:09.219000</td>\n",
       "      <td>1</td>\n",
       "      <td>5.433889</td>\n",
       "      <td>98343.733889</td>\n",
       "    </tr>\n",
       "    <tr>\n",
       "      <th>4711</th>\n",
       "      <td>2022-07-10 13:24:09.428</td>\n",
       "      <td>10743</td>\n",
       "      <td>293</td>\n",
       "      <td>8</td>\n",
       "      <td>100</td>\n",
       "      <td>False</td>\n",
       "      <td>0</td>\n",
       "      <td>car</td>\n",
       "      <td>0 days 00:20:55.621000</td>\n",
       "      <td>0 days 01:23:09.419000</td>\n",
       "      <td>1</td>\n",
       "      <td>6.378333</td>\n",
       "      <td>98360.011667</td>\n",
       "    </tr>\n",
       "    <tr>\n",
       "      <th>4712</th>\n",
       "      <td>2022-07-10 13:24:09.708</td>\n",
       "      <td>10785</td>\n",
       "      <td>294</td>\n",
       "      <td>8</td>\n",
       "      <td>100</td>\n",
       "      <td>False</td>\n",
       "      <td>0</td>\n",
       "      <td>car</td>\n",
       "      <td>0 days 00:20:55.901000</td>\n",
       "      <td>0 days 01:23:09.699000</td>\n",
       "      <td>1</td>\n",
       "      <td>7.778333</td>\n",
       "      <td>98382.878333</td>\n",
       "    </tr>\n",
       "    <tr>\n",
       "      <th>4713</th>\n",
       "      <td>2022-07-10 13:24:09.908</td>\n",
       "      <td>10778</td>\n",
       "      <td>294</td>\n",
       "      <td>8</td>\n",
       "      <td>100</td>\n",
       "      <td>False</td>\n",
       "      <td>0</td>\n",
       "      <td>car</td>\n",
       "      <td>0 days 00:20:56.101000</td>\n",
       "      <td>0 days 01:23:09.899000</td>\n",
       "      <td>1</td>\n",
       "      <td>8.945000</td>\n",
       "      <td>98399.211667</td>\n",
       "    </tr>\n",
       "    <tr>\n",
       "      <th>4714</th>\n",
       "      <td>2022-07-10 13:24:10.108</td>\n",
       "      <td>10794</td>\n",
       "      <td>294</td>\n",
       "      <td>8</td>\n",
       "      <td>98</td>\n",
       "      <td>False</td>\n",
       "      <td>0</td>\n",
       "      <td>car</td>\n",
       "      <td>0 days 00:20:56.301000</td>\n",
       "      <td>0 days 01:23:10.099000</td>\n",
       "      <td>1</td>\n",
       "      <td>10.167222</td>\n",
       "      <td>98415.545000</td>\n",
       "    </tr>\n",
       "    <tr>\n",
       "      <th>4715</th>\n",
       "      <td>2022-07-10 13:24:10.348</td>\n",
       "      <td>10273</td>\n",
       "      <td>287</td>\n",
       "      <td>8</td>\n",
       "      <td>49</td>\n",
       "      <td>True</td>\n",
       "      <td>0</td>\n",
       "      <td>car</td>\n",
       "      <td>0 days 00:20:56.541000</td>\n",
       "      <td>0 days 01:23:10.339000</td>\n",
       "      <td>1</td>\n",
       "      <td>12.100556</td>\n",
       "      <td>98434.678333</td>\n",
       "    </tr>\n",
       "    <tr>\n",
       "      <th>4716</th>\n",
       "      <td>2022-07-10 13:24:10.548</td>\n",
       "      <td>9938</td>\n",
       "      <td>272</td>\n",
       "      <td>8</td>\n",
       "      <td>4</td>\n",
       "      <td>True</td>\n",
       "      <td>0</td>\n",
       "      <td>car</td>\n",
       "      <td>0 days 00:20:56.741000</td>\n",
       "      <td>0 days 01:23:10.539000</td>\n",
       "      <td>1</td>\n",
       "      <td>13.378333</td>\n",
       "      <td>98449.789444</td>\n",
       "    </tr>\n",
       "  </tbody>\n",
       "</table>\n",
       "</div>"
      ],
      "text/plain": [
       "                        Date    RPM  Speed  nGear  Throttle  Brake  DRS  \\\n",
       "4704 2022-07-10 13:24:07.908  11070    282      7       100  False    0   \n",
       "4705 2022-07-10 13:24:08.108  10531    284      8       100  False    0   \n",
       "4706 2022-07-10 13:24:08.348  10594    287      8       100  False    0   \n",
       "4707 2022-07-10 13:24:08.588  10638    287      8       100  False    0   \n",
       "4708 2022-07-10 13:24:08.748  10698    290      8       100  False    0   \n",
       "4709 2022-07-10 13:24:08.908  10714    291      8       100  False    0   \n",
       "4710 2022-07-10 13:24:09.228  10743    292      8       100  False    0   \n",
       "4711 2022-07-10 13:24:09.428  10743    293      8       100  False    0   \n",
       "4712 2022-07-10 13:24:09.708  10785    294      8       100  False    0   \n",
       "4713 2022-07-10 13:24:09.908  10778    294      8       100  False    0   \n",
       "4714 2022-07-10 13:24:10.108  10794    294      8        98  False    0   \n",
       "4715 2022-07-10 13:24:10.348  10273    287      8        49   True    0   \n",
       "4716 2022-07-10 13:24:10.548   9938    272      8         4   True    0   \n",
       "\n",
       "     Source                   Time            SessionTime DriverAhead  \\\n",
       "4704    car 0 days 00:20:54.101000 0 days 01:23:07.899000               \n",
       "4705    car 0 days 00:20:54.301000 0 days 01:23:08.099000           1   \n",
       "4706    car 0 days 00:20:54.541000 0 days 01:23:08.339000           1   \n",
       "4707    car 0 days 00:20:54.781000 0 days 01:23:08.579000           1   \n",
       "4708    car 0 days 00:20:54.941000 0 days 01:23:08.739000           1   \n",
       "4709    car 0 days 00:20:55.101000 0 days 01:23:08.899000           1   \n",
       "4710    car 0 days 00:20:55.421000 0 days 01:23:09.219000           1   \n",
       "4711    car 0 days 00:20:55.621000 0 days 01:23:09.419000           1   \n",
       "4712    car 0 days 00:20:55.901000 0 days 01:23:09.699000           1   \n",
       "4713    car 0 days 00:20:56.101000 0 days 01:23:09.899000           1   \n",
       "4714    car 0 days 00:20:56.301000 0 days 01:23:10.099000           1   \n",
       "4715    car 0 days 00:20:56.541000 0 days 01:23:10.339000           1   \n",
       "4716    car 0 days 00:20:56.741000 0 days 01:23:10.539000           1   \n",
       "\n",
       "      DistanceToDriverAhead      Distance  \n",
       "4704                    NaN  98237.911667  \n",
       "4705               1.011667  98253.689444  \n",
       "4706               1.811667  98272.822778  \n",
       "4707               2.811667  98291.956111  \n",
       "4708               3.389444  98304.845000  \n",
       "4709               4.011667  98317.778333  \n",
       "4710               5.433889  98343.733889  \n",
       "4711               6.378333  98360.011667  \n",
       "4712               7.778333  98382.878333  \n",
       "4713               8.945000  98399.211667  \n",
       "4714              10.167222  98415.545000  \n",
       "4715              12.100556  98434.678333  \n",
       "4716              13.378333  98449.789444  "
      ]
     },
     "metadata": {},
     "output_type": "display_data"
    },
    {
     "data": {
      "text/plain": [
       "Date                     2022-07-10 13:24:07.908000\n",
       "RPM                                           11533\n",
       "Speed                                           294\n",
       "nGear                                             7\n",
       "Throttle                                        100\n",
       "Brake                                         False\n",
       "DRS                                              12\n",
       "Source                                          car\n",
       "Time                         0 days 00:00:30.592000\n",
       "SessionTime                  0 days 01:23:07.899000\n",
       "DriverAhead                                      55\n",
       "DistanceToDriverAhead                    948.835833\n",
       "Name: 114, dtype: object"
      ]
     },
     "metadata": {},
     "output_type": "display_data"
    },
    {
     "name": "stdout",
     "output_type": "stream",
     "text": [
      "Driver ahead before: 44\n",
      "Driver ahead now: 55\n"
     ]
    }
   ],
   "source": [
    "this_driver = 1 # TODO\n",
    "driver_ahead = None\n",
    "threashold = pandas.Timedelta(3, 's')\n",
    "pit_threashold = pandas.Timedelta(3, 's')\n",
    "\n",
    "for i, lap in laps.iterlaps():\n",
    "    lap_number = lap[\"LapNumber\"]\n",
    "    if lap_number == 1: # exclude first lap\n",
    "        continue\n",
    "\n",
    "    # Consider successful overtake as:\n",
    "    # - driver ahead has changed at t0\n",
    "    # - passed driver's driver ahead is now the driver's driver ahead any time between t0 + 3 seconds\n",
    "    # - the driver is ahead by 1 car length\n",
    "    # - the driver's driver ahead was the passed driver any time between t0 - 3 seconds\n",
    "    # - driver has driven longer distance since t0 for the entirety of the sample window t0 + 3 seconds\n",
    "    # - passed driver has not been lapped\n",
    "    # - passed driver is not pitted\n",
    "    # - passed driver is not off track\n",
    "    # Consider adding checks for:\n",
    "    # - track status (no yellow flags, sc leading to lapped cars making their way around).\n",
    "    \n",
    "    # Currently, if a car is side by side and the driver is slightly in front, gets away for a split second counts as an overtake.\n",
    "    lap_telemetry = lap.get_car_data().add_driver_ahead()\n",
    "    for _, t in lap_telemetry.iterrows():\n",
    "        if driver_ahead == t['DriverAhead']:\n",
    "            continue\n",
    " \n",
    "        maybe_passed_driver = driver_ahead\n",
    "        driver_ahead = t['DriverAhead']\n",
    "        \n",
    "        if not maybe_passed_driver:\n",
    "            continue\n",
    "\n",
    "        t0 = t['SessionTime']\n",
    "\n",
    "        # Passed driver data\n",
    "        pd_laps = session.laps.pick_driver(maybe_passed_driver)\n",
    "        pd_lap_idx = pd_laps[(pd_laps['LapStartTime'] <= t0)]['LapStartTime'].idxmax()\n",
    "        pd_lap = session.laps.iloc[pd_lap_idx]\n",
    "        pd_pos = pd_laps.get_pos_data().slice_by_time(t0 - threashold, t0 + threashold)\n",
    "        pd_tel = pd_laps.get_car_data()\n",
    "        try:\n",
    "            pd_tel_before = pd_tel[(pd_tel['SessionTime'] >= (t0 - threashold)) & (pd_tel['SessionTime'] < t0)].add_driver_ahead()\n",
    "            pd_tel_after = pd_tel[(pd_tel['SessionTime'] >= t0) & (pd_tel['SessionTime'] < (t0 + threashold))].add_driver_ahead().add_distance()\n",
    "        except (ValueError, IndexError):\n",
    "            continue\n",
    "\n",
    "        # Driver data\n",
    "        driver_tel = session.laps.pick_driver(this_driver).get_car_data()\n",
    "        try:\n",
    "            driver_tel_before = driver_tel[(driver_tel['SessionTime'] >= (t0 - threashold)) & (driver_tel['SessionTime'] < t0)].add_driver_ahead()\n",
    "            driver_tel_after = driver_tel[(driver_tel['SessionTime'] >= t0) & (driver_tel['SessionTime'] < (t0 + threashold))].add_driver_ahead().add_distance()\n",
    "        except ValueError:\n",
    "            continue\n",
    "            \n",
    "        # Ensure the car is not off track\n",
    "        if not pd_pos.query(f'Status == \"OffTrack\"').empty:\n",
    "            print(\"off track!!\")\n",
    "            continue\n",
    "            \n",
    "        # Check for possible overtake based on driver ahead during the sample windows\n",
    "        if not(not pd_tel_before.query(f'DriverAhead == \"{driver_ahead}\"').empty and not pd_tel_after.query(f'DriverAhead == \"{this_driver}\"').empty):\n",
    "            continue\n",
    "            \n",
    "        # The drive is at least 1 car length ahead (6 meters) at any point in time during t0 + 3 seconds\n",
    "        if pd_tel_after.query(f'DriverAhead == \"{this_driver}\" and DistanceToDriverAhead >= 6').empty:\n",
    "            continue\n",
    "            \n",
    "        # Check passed driver has not been lapped\n",
    "        if pd_lap['LapNumber'] < lap_number:\n",
    "            continue\n",
    "    \n",
    "        # Check the driver has driven longer distance since t0\n",
    "        if not driver_tel_after.iloc[-1]['Distance'] > pd_tel_after.iloc[-1]['Distance']:\n",
    "            continue\n",
    "            \n",
    "        # Check passed driver was not pitted\n",
    "        # This is determined true if t0 does not occur during any PitInTime - 3 second and PitOutTime + 3 second\n",
    "        # TODO: this could be optimized to filter laps we only care about\n",
    "        pit_stops = []\n",
    "        was_pitted = False\n",
    "        for _, _pd_lap in pd_laps.iterrows():\n",
    "            pit_in = _pd_lap['PitInTime']\n",
    "            pit_out = _pd_lap['PitOutTime']\n",
    "\n",
    "            if pandas.isnull(pit_in) and not pandas.isnull(pit_out) and lap_number == 1:\n",
    "                continue\n",
    "\n",
    "            if not pandas.isnull(pit_in):\n",
    "                last_pit_in = pit_in\n",
    "\n",
    "            if not pandas.isnull(pit_out):\n",
    "                if t0 >= (last_pit_in - pit_threashold) and t0 <= (pit_out + pit_threashold):\n",
    "                    was_pitted = True\n",
    "                    break\n",
    "\n",
    "        if was_pitted:\n",
    "            continue\n",
    "\n",
    "        print()\n",
    "        print(f'--- Lap {lap_number} ---')\n",
    "        print(f'-- Overtake --')\n",
    "        display(pd_tel_after)\n",
    "        display(t)\n",
    "        print(f'Driver ahead before: {maybe_passed_driver}')\n",
    "        print(f'Driver ahead now: {driver_ahead}')"
   ]
  }
 ],
 "metadata": {
  "kernelspec": {
   "display_name": "Python 3 (ipykernel)",
   "language": "python",
   "name": "python3"
  },
  "language_info": {
   "codemirror_mode": {
    "name": "ipython",
    "version": 3
   },
   "file_extension": ".py",
   "mimetype": "text/x-python",
   "name": "python",
   "nbconvert_exporter": "python",
   "pygments_lexer": "ipython3",
   "version": "3.8.9"
  }
 },
 "nbformat": 4,
 "nbformat_minor": 5
}
